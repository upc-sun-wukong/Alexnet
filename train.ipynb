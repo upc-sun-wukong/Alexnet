{
 "cells": [
  {
   "cell_type": "code",
   "execution_count": 2,
   "metadata": {},
   "outputs": [],
   "source": [
    "import os \n",
    "import sys\n",
    "import json     #######我的这个项目需要这个东西吗#########\n",
    "import torch\n",
    "import torch.nn as nn\n",
    "from torchvision import transforms, datasets \n",
    "import torch.optim as optim \n",
    "from tqdm import tqdm  \n",
    "from classic_models.alexnet import AlexNet"
   ]
  },
  {
   "cell_type": "code",
   "execution_count": 15,
   "metadata": {},
   "outputs": [
    {
     "name": "stdout",
     "output_type": "stream",
     "text": [
      "Collecting torchsummary\n",
      "  Downloading torchsummary-1.5.1-py3-none-any.whl (2.8 kB)\n",
      "Installing collected packages: torchsummary\n",
      "Successfully installed torchsummary-1.5.1\n"
     ]
    }
   ],
   "source": [
    "! pip install torchsummary\n",
    " "
   ]
  },
  {
   "cell_type": "code",
   "execution_count": 17,
   "metadata": {},
   "outputs": [
    {
     "name": "stdout",
     "output_type": "stream",
     "text": [
      "using cpu device.\n"
     ]
    }
   ],
   "source": [
    "# 判断可用设备\n",
    "device = torch.device(\"cuda:0\" if torch.cuda.is_available() else \"cpu\")\n",
    "print(\"using {} device.\".format(device))"
   ]
  },
  {
   "cell_type": "code",
   "execution_count": 18,
   "metadata": {},
   "outputs": [
    {
     "ename": "AssertionError",
     "evalue": "D:/Machine Learning/点头课程内容/22.05.22/AlexNet(1)/AlexNet/flower path does not exist.",
     "output_type": "error",
     "traceback": [
      "\u001b[1;31m---------------------------------------------------------------------------\u001b[0m",
      "\u001b[1;31mAssertionError\u001b[0m                            Traceback (most recent call last)",
      "\u001b[1;32mc:\\Users\\30533\\Desktop\\文件解决\\train.ipynb Cell 4\u001b[0m in \u001b[0;36m<cell line: 3>\u001b[1;34m()\u001b[0m\n\u001b[0;32m      <a href='vscode-notebook-cell:/c%3A/Users/30533/Desktop/%E6%96%87%E4%BB%B6%E8%A7%A3%E5%86%B3/train.ipynb#ch0000002?line=0'>1</a>\u001b[0m \u001b[39m# 注意改成自己的数据集路径\u001b[39;00m\n\u001b[0;32m      <a href='vscode-notebook-cell:/c%3A/Users/30533/Desktop/%E6%96%87%E4%BB%B6%E8%A7%A3%E5%86%B3/train.ipynb#ch0000002?line=1'>2</a>\u001b[0m data_path \u001b[39m=\u001b[39m \u001b[39m\"\u001b[39m\u001b[39mD:/Machine Learning/点头课程内容/22.05.22/AlexNet(1)/AlexNet/flower\u001b[39m\u001b[39m\"\u001b[39m\n\u001b[1;32m----> <a href='vscode-notebook-cell:/c%3A/Users/30533/Desktop/%E6%96%87%E4%BB%B6%E8%A7%A3%E5%86%B3/train.ipynb#ch0000002?line=2'>3</a>\u001b[0m \u001b[39massert\u001b[39;00m os\u001b[39m.\u001b[39mpath\u001b[39m.\u001b[39mexists(data_path), \u001b[39m\"\u001b[39m\u001b[39m{}\u001b[39;00m\u001b[39m path does not exist.\u001b[39m\u001b[39m\"\u001b[39m\u001b[39m.\u001b[39mformat(data_path)\n",
      "\u001b[1;31mAssertionError\u001b[0m: D:/Machine Learning/点头课程内容/22.05.22/AlexNet(1)/AlexNet/flower path does not exist."
     ]
    }
   ],
   "source": [
    "# 注意改成自己的数据集路径\n",
    "data_path = \"D:/Machine Learning/点头课程内容/22.05.22/AlexNet(1)/AlexNet/flower\"\n",
    "assert os.path.exists(data_path), \"{} path does not exist.\".format(data_path)"
   ]
  },
  {
   "cell_type": "code",
   "execution_count": null,
   "metadata": {},
   "outputs": [],
   "source": [
    " # 数据预处理与增强\n",
    "\"\"\" \n",
    "ToTensor()能够把灰度范围从0-255变换到0-1之间的张量.\n",
    "transform.Normalize()则把0-1变换到(-1,1). 具体地说, 对每个通道而言, Normalize执行以下操作: image=(image-mean)/std\n",
    "其中mean和std分别通过(0.5,0.5,0.5)和(0.5,0.5,0.5)进行指定。原来的0-1最小值0则变成(0-0.5)/0.5=-1; 而最大值1则变成(1-0.5)/0.5=1. \n",
    "也就是一个均值为0, 方差为1的正态分布. 这样的数据输入格式可以使神经网络更快收敛。\n",
    "\"\"\"\n",
    "data_transform = {\n",
    "    \"train\": transforms.Compose([transforms.Resize(224),\n",
    "                                    transforms.CenterCrop(224),\n",
    "                                    transforms.ToTensor(),\n",
    "                                    transforms.Normalize((0.5, 0.5, 0.5), (0.5, 0.5, 0.5))]),\n",
    "\n",
    "    \"val\": transforms.Compose([transforms.Resize((224, 224)),  # val不需要任何数据增强\n",
    "                                transforms.ToTensor(),\n",
    "                                transforms.Normalize((0.5, 0.5, 0.5), (0.5, 0.5, 0.5))])}"
   ]
  },
  {
   "cell_type": "code",
   "execution_count": null,
   "metadata": {},
   "outputs": [],
   "source": [
    "# 使用ImageFlolder加载数据集中的图像，并使用指定的预处理操作来处理图像， ImageFlolder会同时返回图像和对应的标签。 (image path, class_index) tuples\n",
    "train_dataset = datasets.ImageFolder(root=os.path.join(data_path, \"train\"), transform=data_transform[\"train\"])\n",
    "validate_dataset = datasets.ImageFolder(root=os.path.join(data_path, \"val\"), transform=data_transform[\"val\"])\n",
    "train_num = len(train_dataset)\n",
    "val_num = len(validate_dataset)"
   ]
  },
  {
   "cell_type": "code",
   "execution_count": null,
   "metadata": {},
   "outputs": [
    {
     "data": {
      "text/plain": [
       "{'daisy': 0, 'dandelion': 1, 'roses': 2, 'sunflowers': 3, 'tulips': 4}"
      ]
     },
     "execution_count": 6,
     "metadata": {},
     "output_type": "execute_result"
    }
   ],
   "source": [
    "# 使用class_to_idx给类别一个index，作为训练时的标签： {'daisy':0, 'dandelion':1, 'roses':2, 'sunflower':3, 'tulips':4}\n",
    "flower_list = train_dataset.class_to_idx\n",
    "flower_list"
   ]
  },
  {
   "cell_type": "code",
   "execution_count": 2,
   "metadata": {},
   "outputs": [
    {
     "ename": "NameError",
     "evalue": "name 'flower_list' is not defined",
     "output_type": "error",
     "traceback": [
      "\u001b[1;31m---------------------------------------------------------------------------\u001b[0m",
      "\u001b[1;31mNameError\u001b[0m                                 Traceback (most recent call last)",
      "\u001b[1;32mc:\\Users\\30533\\Desktop\\文件解决\\train.ipynb Cell 7\u001b[0m in \u001b[0;36m<cell line: 2>\u001b[1;34m()\u001b[0m\n\u001b[0;32m      <a href='vscode-notebook-cell:/c%3A/Users/30533/Desktop/%E6%96%87%E4%BB%B6%E8%A7%A3%E5%86%B3/train.ipynb#ch0000006?line=0'>1</a>\u001b[0m \u001b[39m# 创建一个字典，存储index和类别的对应关系，在模型推理阶段会用到。\u001b[39;00m\n\u001b[1;32m----> <a href='vscode-notebook-cell:/c%3A/Users/30533/Desktop/%E6%96%87%E4%BB%B6%E8%A7%A3%E5%86%B3/train.ipynb#ch0000006?line=1'>2</a>\u001b[0m cla_dict \u001b[39m=\u001b[39m \u001b[39mdict\u001b[39m((val, key) \u001b[39mfor\u001b[39;00m key, val \u001b[39min\u001b[39;00m flower_list\u001b[39m.\u001b[39mitems())\n\u001b[0;32m      <a href='vscode-notebook-cell:/c%3A/Users/30533/Desktop/%E6%96%87%E4%BB%B6%E8%A7%A3%E5%86%B3/train.ipynb#ch0000006?line=2'>3</a>\u001b[0m cla_dict\n",
      "\u001b[1;31mNameError\u001b[0m: name 'flower_list' is not defined"
     ]
    }
   ],
   "source": [
    "# 创建一个字典，存储index和类别的对应关系，在模型推理阶段会用到。\n",
    "cla_dict = dict((val, key) for key, val in flower_list.items())\n",
    "cla_dict"
   ]
  },
  {
   "cell_type": "code",
   "execution_count": 3,
   "metadata": {},
   "outputs": [
    {
     "ename": "NameError",
     "evalue": "name 'cla_dict' is not defined",
     "output_type": "error",
     "traceback": [
      "\u001b[1;31m---------------------------------------------------------------------------\u001b[0m",
      "\u001b[1;31mNameError\u001b[0m                                 Traceback (most recent call last)",
      "\u001b[1;32mc:\\Users\\30533\\Desktop\\文件解决\\train.ipynb Cell 8\u001b[0m in \u001b[0;36m<cell line: 2>\u001b[1;34m()\u001b[0m\n\u001b[0;32m      <a href='vscode-notebook-cell:/c%3A/Users/30533/Desktop/%E6%96%87%E4%BB%B6%E8%A7%A3%E5%86%B3/train.ipynb#ch0000007?line=0'>1</a>\u001b[0m \u001b[39m# 将字典写成一个json文件\u001b[39;00m\n\u001b[1;32m----> <a href='vscode-notebook-cell:/c%3A/Users/30533/Desktop/%E6%96%87%E4%BB%B6%E8%A7%A3%E5%86%B3/train.ipynb#ch0000007?line=1'>2</a>\u001b[0m json_str \u001b[39m=\u001b[39m json\u001b[39m.\u001b[39mdumps(cla_dict, indent\u001b[39m=\u001b[39m\u001b[39m4\u001b[39m)\n\u001b[0;32m      <a href='vscode-notebook-cell:/c%3A/Users/30533/Desktop/%E6%96%87%E4%BB%B6%E8%A7%A3%E5%86%B3/train.ipynb#ch0000007?line=2'>3</a>\u001b[0m \u001b[39mwith\u001b[39;00m \u001b[39mopen\u001b[39m( os\u001b[39m.\u001b[39mpath\u001b[39m.\u001b[39mjoin(data_path, \u001b[39m'\u001b[39m\u001b[39mclass_indices.json\u001b[39m\u001b[39m'\u001b[39m) , \u001b[39m'\u001b[39m\u001b[39mw\u001b[39m\u001b[39m'\u001b[39m) \u001b[39mas\u001b[39;00m json_file:\n\u001b[0;32m      <a href='vscode-notebook-cell:/c%3A/Users/30533/Desktop/%E6%96%87%E4%BB%B6%E8%A7%A3%E5%86%B3/train.ipynb#ch0000007?line=3'>4</a>\u001b[0m     json_file\u001b[39m.\u001b[39mwrite(json_str)\n",
      "\u001b[1;31mNameError\u001b[0m: name 'cla_dict' is not defined"
     ]
    }
   ],
   "source": [
    "# 将字典写成一个json文件\n",
    "json_str = json.dumps(cla_dict, indent=4)\n",
    "with open( os.path.join(data_path, 'class_indices.json') , 'w') as json_file:\n",
    "    json_file.write(json_str)\n",
    "json_str"
   ]
  },
  {
   "cell_type": "code",
   "execution_count": 4,
   "metadata": {},
   "outputs": [
    {
     "name": "stdout",
     "output_type": "stream",
     "text": [
      "Using 8 dataloader workers every process\n"
     ]
    }
   ],
   "source": [
    "batch_size = 64 # batch_size大小，是超参，可调，如果模型跑不起来，尝试调小batch_size\n",
    "num_workers = min([os.cpu_count(), batch_size if batch_size > 1 else 0, 8])  # 用于加载数据集的进程数量\n",
    "print('Using {} dataloader workers every process'.format(num_workers))"
   ]
  },
  {
   "cell_type": "code",
   "execution_count": 5,
   "metadata": {},
   "outputs": [
    {
     "ename": "NameError",
     "evalue": "name 'train_dataset' is not defined",
     "output_type": "error",
     "traceback": [
      "\u001b[1;31m---------------------------------------------------------------------------\u001b[0m",
      "\u001b[1;31mNameError\u001b[0m                                 Traceback (most recent call last)",
      "\u001b[1;32mc:\\Users\\30533\\Desktop\\文件解决\\train.ipynb Cell 10\u001b[0m in \u001b[0;36m<cell line: 2>\u001b[1;34m()\u001b[0m\n\u001b[0;32m      <a href='vscode-notebook-cell:/c%3A/Users/30533/Desktop/%E6%96%87%E4%BB%B6%E8%A7%A3%E5%86%B3/train.ipynb#ch0000009?line=0'>1</a>\u001b[0m \u001b[39m# 使用 DataLoader 将 ImageFloder 加载的数据集处理成批量（batch）加载模式\u001b[39;00m\n\u001b[1;32m----> <a href='vscode-notebook-cell:/c%3A/Users/30533/Desktop/%E6%96%87%E4%BB%B6%E8%A7%A3%E5%86%B3/train.ipynb#ch0000009?line=1'>2</a>\u001b[0m train_loader \u001b[39m=\u001b[39m torch\u001b[39m.\u001b[39mutils\u001b[39m.\u001b[39mdata\u001b[39m.\u001b[39mDataLoader(train_dataset, batch_size\u001b[39m=\u001b[39mbatch_size, shuffle\u001b[39m=\u001b[39m\u001b[39mTrue\u001b[39;00m, num_workers\u001b[39m=\u001b[39mnum_workers)\n\u001b[0;32m      <a href='vscode-notebook-cell:/c%3A/Users/30533/Desktop/%E6%96%87%E4%BB%B6%E8%A7%A3%E5%86%B3/train.ipynb#ch0000009?line=2'>3</a>\u001b[0m validate_loader \u001b[39m=\u001b[39m torch\u001b[39m.\u001b[39mutils\u001b[39m.\u001b[39mdata\u001b[39m.\u001b[39mDataLoader(validate_dataset, batch_size\u001b[39m=\u001b[39m\u001b[39m4\u001b[39m, shuffle\u001b[39m=\u001b[39m\u001b[39mFalse\u001b[39;00m,  num_workers\u001b[39m=\u001b[39mnum_workers) \u001b[39m# 注意，验证集不需要shuffle\u001b[39;00m\n\u001b[0;32m      <a href='vscode-notebook-cell:/c%3A/Users/30533/Desktop/%E6%96%87%E4%BB%B6%E8%A7%A3%E5%86%B3/train.ipynb#ch0000009?line=3'>4</a>\u001b[0m \u001b[39mprint\u001b[39m(\u001b[39m\"\u001b[39m\u001b[39musing \u001b[39m\u001b[39m{}\u001b[39;00m\u001b[39m images for training, \u001b[39m\u001b[39m{}\u001b[39;00m\u001b[39m images for validation.\u001b[39m\u001b[39m\"\u001b[39m\u001b[39m.\u001b[39mformat(train_num, val_num))\n",
      "\u001b[1;31mNameError\u001b[0m: name 'train_dataset' is not defined"
     ]
    }
   ],
   "source": [
    "# 使用 DataLoader 将 ImageFloder 加载的数据集处理成批量（batch）加载模式\n",
    "train_loader = torch.utils.data.DataLoader(train_dataset, batch_size=batch_size, shuffle=True, num_workers=num_workers)\n",
    "validate_loader = torch.utils.data.DataLoader(validate_dataset, batch_size=4, shuffle=False,  num_workers=num_workers) # 注意，验证集不需要shuffle\n",
    "print(\"using {} images for training, {} images for validation.\".format(train_num, val_num))"
   ]
  },
  {
   "cell_type": "code",
   "execution_count": 6,
   "metadata": {},
   "outputs": [
    {
     "ename": "NameError",
     "evalue": "name 'AlexNet' is not defined",
     "output_type": "error",
     "traceback": [
      "\u001b[1;31m---------------------------------------------------------------------------\u001b[0m",
      "\u001b[1;31mNameError\u001b[0m                                 Traceback (most recent call last)",
      "\u001b[1;32mc:\\Users\\30533\\Desktop\\文件解决\\train.ipynb Cell 11\u001b[0m in \u001b[0;36m<cell line: 2>\u001b[1;34m()\u001b[0m\n\u001b[0;32m      <a href='vscode-notebook-cell:/c%3A/Users/30533/Desktop/%E6%96%87%E4%BB%B6%E8%A7%A3%E5%86%B3/train.ipynb#ch0000010?line=0'>1</a>\u001b[0m \u001b[39m# 实例化模型，并送进设备\u001b[39;00m\n\u001b[1;32m----> <a href='vscode-notebook-cell:/c%3A/Users/30533/Desktop/%E6%96%87%E4%BB%B6%E8%A7%A3%E5%86%B3/train.ipynb#ch0000010?line=1'>2</a>\u001b[0m net \u001b[39m=\u001b[39m AlexNet(num_classes\u001b[39m=\u001b[39m\u001b[39m5\u001b[39m, init_weights\u001b[39m=\u001b[39m\u001b[39mTrue\u001b[39;00m)\n\u001b[0;32m      <a href='vscode-notebook-cell:/c%3A/Users/30533/Desktop/%E6%96%87%E4%BB%B6%E8%A7%A3%E5%86%B3/train.ipynb#ch0000010?line=2'>3</a>\u001b[0m net\u001b[39m.\u001b[39mto(device)\n",
      "\u001b[1;31mNameError\u001b[0m: name 'AlexNet' is not defined"
     ]
    }
   ],
   "source": [
    "# 实例化模型，并送进设备\n",
    "net = AlexNet(num_classes=5, init_weights=True)\n",
    "net.to(device)"
   ]
  },
  {
   "cell_type": "code",
   "execution_count": 7,
   "metadata": {},
   "outputs": [
    {
     "ename": "NameError",
     "evalue": "name 'net' is not defined",
     "output_type": "error",
     "traceback": [
      "\u001b[1;31m---------------------------------------------------------------------------\u001b[0m",
      "\u001b[1;31mNameError\u001b[0m                                 Traceback (most recent call last)",
      "\u001b[1;32mc:\\Users\\30533\\Desktop\\文件解决\\train.ipynb Cell 12\u001b[0m in \u001b[0;36m<cell line: 3>\u001b[1;34m()\u001b[0m\n\u001b[0;32m      <a href='vscode-notebook-cell:/c%3A/Users/30533/Desktop/%E6%96%87%E4%BB%B6%E8%A7%A3%E5%86%B3/train.ipynb#ch0000011?line=0'>1</a>\u001b[0m \u001b[39m# 指定损失函数用于计算损失；指定优化器用于更新模型参数；指定训练迭代的轮数，训练权重的存储地址\u001b[39;00m\n\u001b[0;32m      <a href='vscode-notebook-cell:/c%3A/Users/30533/Desktop/%E6%96%87%E4%BB%B6%E8%A7%A3%E5%86%B3/train.ipynb#ch0000011?line=1'>2</a>\u001b[0m loss_function \u001b[39m=\u001b[39m nn\u001b[39m.\u001b[39mCrossEntropyLoss() \n\u001b[1;32m----> <a href='vscode-notebook-cell:/c%3A/Users/30533/Desktop/%E6%96%87%E4%BB%B6%E8%A7%A3%E5%86%B3/train.ipynb#ch0000011?line=2'>3</a>\u001b[0m optimizer \u001b[39m=\u001b[39m optim\u001b[39m.\u001b[39mAdam(net\u001b[39m.\u001b[39mparameters(), lr\u001b[39m=\u001b[39m\u001b[39m0.0002\u001b[39m)\n\u001b[0;32m      <a href='vscode-notebook-cell:/c%3A/Users/30533/Desktop/%E6%96%87%E4%BB%B6%E8%A7%A3%E5%86%B3/train.ipynb#ch0000011?line=3'>4</a>\u001b[0m epochs \u001b[39m=\u001b[39m \u001b[39m70\u001b[39m\n\u001b[0;32m      <a href='vscode-notebook-cell:/c%3A/Users/30533/Desktop/%E6%96%87%E4%BB%B6%E8%A7%A3%E5%86%B3/train.ipynb#ch0000011?line=4'>5</a>\u001b[0m save_path \u001b[39m=\u001b[39m os\u001b[39m.\u001b[39mpath\u001b[39m.\u001b[39mabspath(os\u001b[39m.\u001b[39mpath\u001b[39m.\u001b[39mjoin(os\u001b[39m.\u001b[39mgetcwd(), \u001b[39m'\u001b[39m\u001b[39m./results/weights/alexnet\u001b[39m\u001b[39m'\u001b[39m))   \u001b[39m#os.getcwd()返回当前目录\u001b[39;00m\n",
      "\u001b[1;31mNameError\u001b[0m: name 'net' is not defined"
     ]
    }
   ],
   "source": [
    " # 指定损失函数用于计算损失；指定优化器用于更新模型参数；指定训练迭代的轮数，训练权重的存储地址\n",
    "loss_function = nn.CrossEntropyLoss() \n",
    "optimizer = optim.Adam(net.parameters(), lr=0.0002)\n",
    "epochs = 70\n",
    "save_path = os.path.abspath(os.path.join(os.getcwd(), './results/weights/alexnet'))   #os.getcwd()返回当前目录\n",
    "if not os.path.exists(save_path):    \n",
    "    os.mkdir(save_path)         #与Linux下相同语法\n",
    "\n",
    "best_acc = 0.0 # 初始化验证集上最好的准确率，以便后面用该指标筛选模型最优参数。\n",
    "train_steps = len(train_loader) # epoch是迭代训练数据集的次数，train_steps是数据集可以被分成的批次数量 = num(dataset) / batch_size"
   ]
  },
  {
   "cell_type": "code",
   "execution_count": 8,
   "metadata": {},
   "outputs": [
    {
     "ename": "NameError",
     "evalue": "name 'epochs' is not defined",
     "output_type": "error",
     "traceback": [
      "\u001b[1;31m---------------------------------------------------------------------------\u001b[0m",
      "\u001b[1;31mNameError\u001b[0m                                 Traceback (most recent call last)",
      "\u001b[1;32mc:\\Users\\30533\\Desktop\\文件解决\\train.ipynb Cell 13\u001b[0m in \u001b[0;36m<cell line: 1>\u001b[1;34m()\u001b[0m\n\u001b[1;32m----> <a href='vscode-notebook-cell:/c%3A/Users/30533/Desktop/%E6%96%87%E4%BB%B6%E8%A7%A3%E5%86%B3/train.ipynb#ch0000012?line=0'>1</a>\u001b[0m \u001b[39mfor\u001b[39;00m epoch \u001b[39min\u001b[39;00m \u001b[39mrange\u001b[39m(epochs):\n\u001b[0;32m      <a href='vscode-notebook-cell:/c%3A/Users/30533/Desktop/%E6%96%87%E4%BB%B6%E8%A7%A3%E5%86%B3/train.ipynb#ch0000012?line=1'>2</a>\u001b[0m         \u001b[39m############################################################## train ######################################################\u001b[39;00m\n\u001b[0;32m      <a href='vscode-notebook-cell:/c%3A/Users/30533/Desktop/%E6%96%87%E4%BB%B6%E8%A7%A3%E5%86%B3/train.ipynb#ch0000012?line=2'>3</a>\u001b[0m         net\u001b[39m.\u001b[39mtrain()\n\u001b[0;32m      <a href='vscode-notebook-cell:/c%3A/Users/30533/Desktop/%E6%96%87%E4%BB%B6%E8%A7%A3%E5%86%B3/train.ipynb#ch0000012?line=3'>4</a>\u001b[0m         train_loss \u001b[39m=\u001b[39m torch\u001b[39m.\u001b[39mzeros(\u001b[39m1\u001b[39m)\u001b[39m.\u001b[39mto(device) \u001b[39m# 初始化，用于计算训练损失           torch.zeros(2, 3)————这就是torch.zeros的用法，括号内是size\u001b[39;00m\n",
      "\u001b[1;31mNameError\u001b[0m: name 'epochs' is not defined"
     ]
    }
   ],
   "source": [
    "for epoch in range(epochs):\n",
    "        ############################################################## train ######################################################\n",
    "        net.train()\n",
    "        train_loss = torch.zeros(1).to(device) # 初始化，用于计算训练损失           torch.zeros(2, 3)————这就是torch.zeros的用法，括号内是size\n",
    "                                                                            # tensor([[ 0.,  0.,  0.],\n",
    "                                                                            #         [ 0.,  0.,  0.]])\n",
    "        acc_num = torch.zeros(1).to(device)    # 初始化，用于计算训练过程中预测正确的数量\n",
    "        sample_num = 0                         # 初始化，用于记录当前迭代中，已经计算了多少个样本\n",
    "        # tqdm是一个进度条显示器，可以在终端打印出现在的训练进度\n",
    "        train_bar = tqdm(train_loader, file=sys.stdout, ncols=100)   #sys.stdout还是不太懂，执行一下代码看看了\n",
    "        for step, data in enumerate(train_bar):         #？？？train_bar是什么信息\n",
    "            images, labels = data\n",
    "            sample_num += images.shape[0]\n",
    "            optimizer.zero_grad()\n",
    "            outputs = net(images.to(device))          # output_shape: [batch_size, num_classes]   这里的images应该是前向传播forward中的x\n",
    "            pred_class = torch.max(outputs, dim=1)[1] # torch.max 返回值是一个tuple，第一个元素是max值，第二个元素是max值的索引。  \n",
    "            #这里dim表示要降维的维度，pred_class范围的是分类号\n",
    "            acc_num += torch.eq(pred_class, labels.to(device)).sum() #torch.eq()判断后面两个数组对应元素是否相等，相等为true，不等为flase，这里对bool数组求和啥意思呢\n",
    "\n",
    "            loss = loss_function(outputs, labels.to(device)) # 求损失，  ？？？为什么上下同时对labels做计算，但是计算的维度信息并不匹配啊？？？\n",
    "            loss.backward() # 自动求导\n",
    "            optimizer.step() # 梯度下降\n",
    "\n",
    "            # print statistics\n",
    "            train_loss += loss.detach()  / (step + 1)\n",
    "            train_acc = acc_num.item() / sample_num \n",
    "            # .desc是进度条tqdm中的成员变量，作用是描述信息\n",
    "            train_bar.desc = \"train epoch[{}/{}] loss:{:.3f}\".format(epoch + 1, epochs, loss)\n",
    "\n",
    "        # validate\n",
    "        net.eval()\n",
    "        acc_num = 0.0  # accumulate accurate number per epoch\n",
    "        with torch.no_grad(): \n",
    "            for val_data in validate_loader:\n",
    "                val_images, val_labels = val_data\n",
    "                outputs = net(val_images.to(device))\n",
    "                predict_y = torch.max(outputs, dim=1)[1]\n",
    "                acc_num += torch.eq(predict_y, val_labels.to(device)).sum().item() \n",
    "\n",
    "        val_accurate = acc_num / val_num\n",
    "        print('[epoch %d] train_loss: %.3f  train_acc: %.3f  val_accuracy: %.3f' %  (epoch + 1, train_loss / train_steps , train_acc, val_accurate))   \n",
    "        # 判断当前验证集的准确率是否是最大的，如果是，则更新之前保存的权重\n",
    "        if val_accurate > best_acc:\n",
    "            best_acc = val_accurate\n",
    "            torch.save(net.state_dict(), os.path.join(save_path, \"AlexNet.pth\") )\n",
    "\n",
    "        # 每次迭代后清空这些指标，重新计算\n",
    "        train_loss = 0.0\n",
    "        train_acc = 0.0\n",
    "        val_accurate = 0.0"
   ]
  },
  {
   "cell_type": "code",
   "execution_count": 9,
   "metadata": {},
   "outputs": [
    {
     "ename": "NameError",
     "evalue": "name 'pred_class' is not defined",
     "output_type": "error",
     "traceback": [
      "\u001b[1;31m---------------------------------------------------------------------------\u001b[0m",
      "\u001b[1;31mNameError\u001b[0m                                 Traceback (most recent call last)",
      "\u001b[1;32mc:\\Users\\30533\\Desktop\\文件解决\\train.ipynb Cell 14\u001b[0m in \u001b[0;36m<cell line: 1>\u001b[1;34m()\u001b[0m\n\u001b[1;32m----> <a href='vscode-notebook-cell:/c%3A/Users/30533/Desktop/%E6%96%87%E4%BB%B6%E8%A7%A3%E5%86%B3/train.ipynb#ch0000013?line=0'>1</a>\u001b[0m pred_class\n",
      "\u001b[1;31mNameError\u001b[0m: name 'pred_class' is not defined"
     ]
    }
   ],
   "source": [
    "pred_class"
   ]
  },
  {
   "cell_type": "code",
   "execution_count": 10,
   "metadata": {},
   "outputs": [
    {
     "ename": "NameError",
     "evalue": "name 'labels' is not defined",
     "output_type": "error",
     "traceback": [
      "\u001b[1;31m---------------------------------------------------------------------------\u001b[0m",
      "\u001b[1;31mNameError\u001b[0m                                 Traceback (most recent call last)",
      "\u001b[1;32mc:\\Users\\30533\\Desktop\\文件解决\\train.ipynb Cell 15\u001b[0m in \u001b[0;36m<cell line: 1>\u001b[1;34m()\u001b[0m\n\u001b[1;32m----> <a href='vscode-notebook-cell:/c%3A/Users/30533/Desktop/%E6%96%87%E4%BB%B6%E8%A7%A3%E5%86%B3/train.ipynb#ch0000014?line=0'>1</a>\u001b[0m labels\u001b[39m.\u001b[39mshape\n",
      "\u001b[1;31mNameError\u001b[0m: name 'labels' is not defined"
     ]
    }
   ],
   "source": [
    "labels.shape"
   ]
  },
  {
   "cell_type": "code",
   "execution_count": 11,
   "metadata": {},
   "outputs": [
    {
     "ename": "NameError",
     "evalue": "name 'images' is not defined",
     "output_type": "error",
     "traceback": [
      "\u001b[1;31m---------------------------------------------------------------------------\u001b[0m",
      "\u001b[1;31mNameError\u001b[0m                                 Traceback (most recent call last)",
      "\u001b[1;32mc:\\Users\\30533\\Desktop\\文件解决\\train.ipynb Cell 16\u001b[0m in \u001b[0;36m<cell line: 1>\u001b[1;34m()\u001b[0m\n\u001b[1;32m----> <a href='vscode-notebook-cell:/c%3A/Users/30533/Desktop/%E6%96%87%E4%BB%B6%E8%A7%A3%E5%86%B3/train.ipynb#ch0000015?line=0'>1</a>\u001b[0m images\u001b[39m.\u001b[39mshape\n",
      "\u001b[1;31mNameError\u001b[0m: name 'images' is not defined"
     ]
    }
   ],
   "source": [
    "images.shape"
   ]
  },
  {
   "cell_type": "code",
   "execution_count": 12,
   "metadata": {},
   "outputs": [
    {
     "ename": "NameError",
     "evalue": "name 'net' is not defined",
     "output_type": "error",
     "traceback": [
      "\u001b[1;31m---------------------------------------------------------------------------\u001b[0m",
      "\u001b[1;31mNameError\u001b[0m                                 Traceback (most recent call last)",
      "\u001b[1;32mc:\\Users\\30533\\Desktop\\文件解决\\train.ipynb Cell 17\u001b[0m in \u001b[0;36m<cell line: 1>\u001b[1;34m()\u001b[0m\n\u001b[1;32m----> <a href='vscode-notebook-cell:/c%3A/Users/30533/Desktop/%E6%96%87%E4%BB%B6%E8%A7%A3%E5%86%B3/train.ipynb#ch0000016?line=0'>1</a>\u001b[0m outputs \u001b[39m=\u001b[39m net(images\u001b[39m.\u001b[39mto(device))\n\u001b[0;32m      <a href='vscode-notebook-cell:/c%3A/Users/30533/Desktop/%E6%96%87%E4%BB%B6%E8%A7%A3%E5%86%B3/train.ipynb#ch0000016?line=1'>2</a>\u001b[0m outputs\u001b[39m.\u001b[39mshape\n",
      "\u001b[1;31mNameError\u001b[0m: name 'net' is not defined"
     ]
    }
   ],
   "source": [
    "outputs = net(images.to(device))\n",
    "outputs.shape"
   ]
  },
  {
   "cell_type": "code",
   "execution_count": 13,
   "metadata": {},
   "outputs": [
    {
     "ename": "NameError",
     "evalue": "name 'outputs' is not defined",
     "output_type": "error",
     "traceback": [
      "\u001b[1;31m---------------------------------------------------------------------------\u001b[0m",
      "\u001b[1;31mNameError\u001b[0m                                 Traceback (most recent call last)",
      "\u001b[1;32mc:\\Users\\30533\\Desktop\\文件解决\\train.ipynb Cell 18\u001b[0m in \u001b[0;36m<cell line: 1>\u001b[1;34m()\u001b[0m\n\u001b[1;32m----> <a href='vscode-notebook-cell:/c%3A/Users/30533/Desktop/%E6%96%87%E4%BB%B6%E8%A7%A3%E5%86%B3/train.ipynb#ch0000017?line=0'>1</a>\u001b[0m pred_class \u001b[39m=\u001b[39m torch\u001b[39m.\u001b[39mmax(outputs, dim\u001b[39m=\u001b[39m\u001b[39m1\u001b[39m)[\u001b[39m1\u001b[39m]\n\u001b[0;32m      <a href='vscode-notebook-cell:/c%3A/Users/30533/Desktop/%E6%96%87%E4%BB%B6%E8%A7%A3%E5%86%B3/train.ipynb#ch0000017?line=1'>2</a>\u001b[0m pred_class\u001b[39m.\u001b[39mshape\n",
      "\u001b[1;31mNameError\u001b[0m: name 'outputs' is not defined"
     ]
    }
   ],
   "source": [
    "pred_class = torch.max(outputs, dim=1)[1]\n",
    "pred_class.shape"
   ]
  },
  {
   "cell_type": "code",
   "execution_count": null,
   "metadata": {},
   "outputs": [],
   "source": []
  },
  {
   "cell_type": "code",
   "execution_count": null,
   "metadata": {},
   "outputs": [],
   "source": []
  }
 ],
 "metadata": {
  "kernelspec": {
   "display_name": "Python 3.10.8 64-bit",
   "language": "python",
   "name": "python3"
  },
  "language_info": {
   "codemirror_mode": {
    "name": "ipython",
    "version": 3
   },
   "file_extension": ".py",
   "mimetype": "text/x-python",
   "name": "python",
   "nbconvert_exporter": "python",
   "pygments_lexer": "ipython3",
   "version": "3.10.8"
  },
  "orig_nbformat": 4,
  "vscode": {
   "interpreter": {
    "hash": "26de051ba29f2982a8de78e945f0abaf191376122a1563185a90213a26c5da77"
   }
  }
 },
 "nbformat": 4,
 "nbformat_minor": 2
}
